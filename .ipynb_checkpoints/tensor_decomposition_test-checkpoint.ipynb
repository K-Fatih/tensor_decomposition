{
 "cells": [
  {
   "cell_type": "markdown",
   "metadata": {
    "colab_type": "text",
    "id": "view-in-github"
   },
   "source": [
    "<a href=\"https://colab.research.google.com/github/shadialameddin/tensor_decomposition/blob/master/tensor_decomposition_test.ipynb\" target=\"_parent\"><img src=\"https://colab.research.google.com/assets/colab-badge.svg\" alt=\"Open In Colab\"/></a>"
   ]
  },
  {
   "cell_type": "markdown",
   "metadata": {
    "id": "y_quEpBUTTvg"
   },
   "source": [
    "http://tensorly.org/stable/auto_examples/index.html#general-examples\n",
    "\n",
    "https://github.com/tensorly/tensorly\n",
    "\n",
    "\n",
    "Sparse backend\n",
    "\n",
    "Kruskal-tensors have been renamed cp_tensors\n",
    "\n",
    "Matrix-product-state has now been renamed tensor-train\n"
   ]
  },
  {
   "cell_type": "code",
   "execution_count": null,
   "metadata": {
    "colab": {
     "base_uri": "https://localhost:8080/"
    },
    "id": "F3DAy_TUQoSc",
    "outputId": "8f864662-289d-4a48-c253-342a4d5df0a4",
    "scrolled": false
   },
   "outputs": [],
   "source": [
    "!pip install -U tensorly --quiet"
   ]
  },
  {
   "cell_type": "code",
   "execution_count": 1,
   "metadata": {},
   "outputs": [],
   "source": [
    "import tensorly as tl\n",
    "import numpy as np\n",
    "from tensorly.testing import assert_array_equal"
   ]
  },
  {
   "cell_type": "code",
   "execution_count": null,
   "metadata": {
    "colab": {
     "base_uri": "https://localhost:8080/"
    },
    "id": "EPWK-89mSIAl",
    "outputId": "9a05f297-0d36-4455-f9c9-0f27d6e6d57e"
   },
   "outputs": [],
   "source": [
    "tensor = tl.tensor(np.arange(24).reshape((3, 4, 2)))\n",
    "print('* original tensor:\\n{}'.format(tensor))"
   ]
  },
  {
   "cell_type": "markdown",
   "metadata": {
    "id": "LqyG_We7STjI"
   },
   "source": [
    "Unfolding a tensor is easy"
   ]
  },
  {
   "cell_type": "code",
   "execution_count": null,
   "metadata": {
    "colab": {
     "base_uri": "https://localhost:8080/"
    },
    "id": "uaVro8QFSMFf",
    "outputId": "86ee4156-1e03-477e-ddcc-2339ca39c4e8"
   },
   "outputs": [],
   "source": [
    "for mode in range(tensor.ndim):\n",
    "    print('* mode-{} unfolding:\\n{}'.format(mode, tl.unfold(tensor, mode)))"
   ]
  },
  {
   "cell_type": "markdown",
   "metadata": {
    "id": "2MPD52X2Sk5j"
   },
   "source": [
    "Re-folding the tensor is as easy:"
   ]
  },
  {
   "cell_type": "code",
   "execution_count": null,
   "metadata": {
    "id": "lQpKJqGlSjEA"
   },
   "outputs": [],
   "source": [
    "for mode in range(tensor.ndim):\n",
    "    unfolding = tl.unfold(tensor, mode)\n",
    "    folded = tl.fold(unfolding, mode, tensor.shape)\n",
    "    assert_array_equal(folded, tensor)"
   ]
  },
  {
   "cell_type": "code",
   "execution_count": null,
   "metadata": {},
   "outputs": [],
   "source": [
    "import os "
   ]
  },
  {
   "cell_type": "code",
   "execution_count": null,
   "metadata": {},
   "outputs": [],
   "source": [
    "if not os.path.exists('tensor_decomposition') and not os.path.isfile('TensorDecomp.py'):\n",
    "    !git clone https://github.com/shadialameddin/tensor_decomposition.git --quiet"
   ]
  },
  {
   "cell_type": "code",
   "execution_count": null,
   "metadata": {},
   "outputs": [],
   "source": [
    "%cd tensor_decomposition"
   ]
  },
  {
   "cell_type": "code",
   "execution_count": 13,
   "metadata": {},
   "outputs": [],
   "source": [
    "from TensorDecomp import *"
   ]
  },
  {
   "cell_type": "markdown",
   "metadata": {},
   "source": [
    "list of available decomposition types:\n",
    "\n",
    "decomp_list = ['svd', 'parafac', 'tucker', 'matrix_product_state', 'NMF','sparse_tucker', 'clarkson_woodruff_transform']\n"
   ]
  },
  {
   "cell_type": "code",
   "execution_count": 14,
   "metadata": {},
   "outputs": [],
   "source": [
    "err_fro  = lambda  x, y : norm(x-y, ord='fro') / norm(x, ord='fro') if (x.ndim == 2) else norm(x-y, ord=None) / norm(x, ord=None)\n",
    "err_L1   = lambda  x, y : norm(x-y, ord=1) / norm(x, ord=1) if (x.ndim == 2) else norm(x-y, ord=None) / norm(x, ord=None)\n",
    "err_Linf = lambda  x, y : norm(x-y, ord=inf) / norm(x, ord=inf) if (x.ndim == 2) else norm(x-y, ord=None) / norm(x, ord=None)\n",
    "err_Spec = lambda  x, y : norm(x-y, ord=2) / norm(x, ord=2) if (x.ndim == 2) else norm(x-y, ord=None) / norm(x, ord=None)\n",
    "    \n",
    "normL = [err_fro, err_L1, err_Linf, err_Spec]\n"
   ]
  },
  {
   "cell_type": "code",
   "execution_count": 15,
   "metadata": {},
   "outputs": [],
   "source": [
    "a = np.random.randint(20, size = (36,12,6))\n",
    "vecL = np.random.randint(5, size = a.shape[1])\n",
    "vecR = np.random.randint(5, size = a.shape[-1])\n",
    "matL = np.random.randint(5, size = a.shape[:-1])\n",
    "matR = np.random.randint(5, size = a.shape[-1:-3:-1])\n",
    "tensor = TensorDecomp(a.astype('float'))"
   ]
  },
  {
   "cell_type": "code",
   "execution_count": 16,
   "metadata": {},
   "outputs": [],
   "source": [
    "errSvd = errList(tensor, svd, vecR, vecL, matR, matL, normL)\n",
    "errTucker = errList(tensor, tucker, vecR, vecL, matR, matL, normL, rank=[2,3,2])\n",
    "errParafac = errList(tensor, parafac, vecR, vecL, matR, matL, normL, rank=4)\n",
    "errTT  = errList(tensor, matrix_product_state, vecR, vecL, matR, matL, normL, rank=[1,3,3,1])"
   ]
  },
  {
   "cell_type": "code",
   "execution_count": 17,
   "metadata": {
    "scrolled": false
   },
   "outputs": [
    {
     "name": "stdout",
     "output_type": "stream",
     "text": [
      "SVD:\n",
      " [[1.3801552746949327e-15, 1.3801552746949327e-15, 1.3801552746949327e-15, 1.3801552746949327e-15], [7.1472702406153145e-16, 7.204740827656416e-16, 1.1826089549789839e-15, 6.242176450331201e-16], [1.2604778503446678e-15, 8.724217530574526e-16, 3.57877270333938e-15, 9.388333783475142e-16], [7.863754081680395e-16, 7.863754081680395e-16, 7.863754081680395e-16, 7.863754081680395e-16], [1.255946470246728e-15, 1.255946470246728e-15, 1.255946470246728e-15, 1.255946470246728e-15], [6.233276978984939e-16, 6.233276978984939e-16, 6.233276978984939e-16, 6.233276978984939e-16], [6.821069443969545e-16, 6.821069443969545e-16, 6.821069443969545e-16, 6.821069443969545e-16]] \n",
      "\n",
      "Tucker:\n",
      " [[0.5039505606814499, 0.5039505606814499, 0.5039505606814499, 0.5039505606814499], [0.2551920324777467, 0.24952129026571973, 0.2650493607047745, 0.11001442988190946], [0.19934366369058937, 0.17597386973911985, 0.22754908653775605, 0.10388091410204267], [0.26582058818508175, 0.26582058818508175, 0.26582058818508175, 0.26582058818508175], [0.1986276646386569, 0.1986276646386569, 0.1986276646386569, 0.1986276646386569], [0.06448527272278662, 0.06448527272278662, 0.06448527272278662, 0.06448527272278662], [0.07655594224767899, 0.07655594224767899, 0.07655594224767899, 0.07655594224767899]] \n",
      "\n",
      "Parafac:\n",
      " [[0.48586190736750107, 0.48586190736750107, 0.48586190736750107, 0.48586190736750107], [0.25624079858069926, 0.25465572634174155, 0.26154793515328817, 0.11059155211387954], [0.19510988422646908, 0.1677154561325133, 0.22835747444314042, 0.10375358449224226], [0.25904017313825, 0.25904017313825, 0.25904017313825, 0.25904017313825], [0.1873478114491463, 0.1873478114491463, 0.1873478114491463, 0.1873478114491463], [0.06285710634901587, 0.06285710634901587, 0.06285710634901587, 0.06285710634901587], [0.07423080666097447, 0.07423080666097447, 0.07423080666097447, 0.07423080666097447]] \n",
      "\n",
      "Tensor Train:\n",
      " [[0.4888542260863123, 0.4888542260863123, 0.4888542260863123, 0.4888542260863123], [0.25352943418793067, 0.2497877603004657, 0.274818143872664, 0.11025728251538541], [0.19133110764314498, 0.16774816692889122, 0.22924650543535602, 0.103272921105219], [0.26208055187852275, 0.26208055187852275, 0.26208055187852275, 0.26208055187852275], [0.19046039231686263, 0.19046039231686263, 0.19046039231686263, 0.19046039231686263], [0.06239541794135687, 0.06239541794135687, 0.06239541794135687, 0.06239541794135687], [0.07526439807775694, 0.07526439807775694, 0.07526439807775694, 0.07526439807775694]] \n",
      "\n"
     ]
    }
   ],
   "source": [
    "print(\"SVD:\\n\",errSvd,\"\\n\")\n",
    "print(\"Tucker:\\n\",errTucker,\"\\n\")\n",
    "print(\"Parafac:\\n\",errParafac,\"\\n\")\n",
    "print(\"Tensor Train:\\n\",errTT,\"\\n\")"
   ]
  },
  {
   "cell_type": "code",
   "execution_count": 18,
   "metadata": {},
   "outputs": [],
   "source": [
    "a = np.random.randint(20, size = (36,12))\n",
    "vecL = np.random.randint(5, size = a.shape[0])\n",
    "vecR = np.random.randint(5, size = a.shape[-1])\n",
    "matL = np.random.randint(5, size = a.shape[:-1])\n",
    "matR = np.random.randint(5, size = a.shape[-1:-3:-1])\n",
    "tensor = TensorDecomp(a.astype('float'))\n",
    "\n",
    "errNMF  = errList(tensor, NMF, vecR, vecL, matR, matL, normL, init = 'random', max_iter = 2000)\n"
   ]
  },
  {
   "cell_type": "code",
   "execution_count": 19,
   "metadata": {},
   "outputs": [
    {
     "name": "stdout",
     "output_type": "stream",
     "text": [
      "NMF:\n",
      " [[0.0006181412044289976, 0.00038309399144206694, 0.0006191657566117411, 0.0004919956111715698], [0.00018752053100640253, 0.00018752053100640253, 0.00018752053100640253, 0.00018752053100640253], [0.0002183822817340571, 0.0002183822817340571, 0.0002183822817340571, 0.0002183822817340571], [0.0002113183310743509, 9.76966660722263e-05, 0.0004236854696007967, 0.00018269602354317114], [0.00013492501402507932, 0.00013492501402507932, 0.00013492501402507932, 0.00013492501402507932], [8.232364770854529e-05, 8.232364770854529e-05, 8.232364770854529e-05, 8.232364770854529e-05], [6.629433502776183e-05, 6.629433502776183e-05, 6.629433502776183e-05, 6.629433502776183e-05]] \n",
      "\n"
     ]
    }
   ],
   "source": [
    "print(\"NMF:\\n\",errNMF,\"\\n\")"
   ]
  },
  {
   "cell_type": "code",
   "execution_count": 1,
   "metadata": {},
   "outputs": [],
   "source": [
    "#TODO #1\n",
    "# Speed comparion is not implemented. No function definition is defined for decomposed_tensor @ Vec multiplication."
   ]
  },
  {
   "cell_type": "code",
   "execution_count": 2,
   "metadata": {},
   "outputs": [],
   "source": [
    "#TODO #2\n",
    "# For every decomposition type -> Line Plot: decomposition error, speedup time in tensor operations vs decomposed tensor operations."
   ]
  },
  {
   "cell_type": "code",
   "execution_count": 4,
   "metadata": {},
   "outputs": [],
   "source": [
    "#TODO #3b\n",
    "# For every decomposition type -> Bar plot: Decomposition error, decomposition time, memory saving"
   ]
  }
 ],
 "metadata": {
  "colab": {
   "include_colab_link": true,
   "name": "tensor_decomposition_test.ipynb",
   "provenance": []
  },
  "kernelspec": {
   "display_name": "Python 3",
   "language": "python",
   "name": "python3"
  },
  "language_info": {
   "codemirror_mode": {
    "name": "ipython",
    "version": 3
   },
   "file_extension": ".py",
   "mimetype": "text/x-python",
   "name": "python",
   "nbconvert_exporter": "python",
   "pygments_lexer": "ipython3",
   "version": "3.9.0"
  }
 },
 "nbformat": 4,
 "nbformat_minor": 1
}
