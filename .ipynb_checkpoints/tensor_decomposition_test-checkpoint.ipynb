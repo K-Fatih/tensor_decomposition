{
 "cells": [
  {
   "cell_type": "markdown",
   "metadata": {
    "colab_type": "text",
    "id": "view-in-github"
   },
   "source": [
    "<a href=\"https://colab.research.google.com/github/shadialameddin/tensor_decomposition/blob/master/tensor_decomposition_test.ipynb\" target=\"_parent\"><img src=\"https://colab.research.google.com/assets/colab-badge.svg\" alt=\"Open In Colab\"/></a>"
   ]
  },
  {
   "cell_type": "markdown",
   "metadata": {
    "id": "y_quEpBUTTvg"
   },
   "source": [
    "http://tensorly.org/stable/auto_examples/index.html#general-examples\n",
    "\n",
    "https://github.com/tensorly/tensorly\n",
    "\n",
    "\n",
    "Sparse backend\n",
    "\n",
    "Kruskal-tensors have been renamed cp_tensors\n",
    "\n",
    "Matrix-product-state has now been renamed tensor-train\n"
   ]
  },
  {
   "cell_type": "code",
   "execution_count": null,
   "metadata": {
    "colab": {
     "base_uri": "https://localhost:8080/"
    },
    "id": "F3DAy_TUQoSc",
    "outputId": "8f864662-289d-4a48-c253-342a4d5df0a4",
    "scrolled": false
   },
   "outputs": [],
   "source": [
    "!pip install -U tensorly --quiet"
   ]
  },
  {
   "cell_type": "code",
   "execution_count": 1,
   "metadata": {},
   "outputs": [],
   "source": [
    "import tensorly as tl\n",
    "import numpy as np\n",
    "from tensorly.testing import assert_array_equal"
   ]
  },
  {
   "cell_type": "code",
   "execution_count": null,
   "metadata": {
    "colab": {
     "base_uri": "https://localhost:8080/"
    },
    "id": "EPWK-89mSIAl",
    "outputId": "9a05f297-0d36-4455-f9c9-0f27d6e6d57e"
   },
   "outputs": [],
   "source": [
    "tensor = tl.tensor(np.arange(24).reshape((3, 4, 2)))\n",
    "print('* original tensor:\\n{}'.format(tensor))"
   ]
  },
  {
   "cell_type": "markdown",
   "metadata": {
    "id": "LqyG_We7STjI"
   },
   "source": [
    "Unfolding a tensor is easy"
   ]
  },
  {
   "cell_type": "code",
   "execution_count": null,
   "metadata": {
    "colab": {
     "base_uri": "https://localhost:8080/"
    },
    "id": "uaVro8QFSMFf",
    "outputId": "86ee4156-1e03-477e-ddcc-2339ca39c4e8"
   },
   "outputs": [],
   "source": [
    "for mode in range(tensor.ndim):\n",
    "    print('* mode-{} unfolding:\\n{}'.format(mode, tl.unfold(tensor, mode)))"
   ]
  },
  {
   "cell_type": "markdown",
   "metadata": {
    "id": "2MPD52X2Sk5j"
   },
   "source": [
    "Re-folding the tensor is as easy:"
   ]
  },
  {
   "cell_type": "code",
   "execution_count": null,
   "metadata": {
    "id": "lQpKJqGlSjEA"
   },
   "outputs": [],
   "source": [
    "for mode in range(tensor.ndim):\n",
    "    unfolding = tl.unfold(tensor, mode)\n",
    "    folded = tl.fold(unfolding, mode, tensor.shape)\n",
    "    assert_array_equal(folded, tensor)"
   ]
  },
  {
   "cell_type": "code",
   "execution_count": 1,
   "metadata": {},
   "outputs": [],
   "source": [
    "import os "
   ]
  },
  {
   "cell_type": "code",
   "execution_count": 2,
   "metadata": {},
   "outputs": [],
   "source": [
    "if not os.path.exists('tensor_decomposition') and not os.path.isfile('TensorDecomp.py'):\n",
    "    !git clone https://github.com/shadialameddin/tensor_decomposition.git --quiet"
   ]
  },
  {
   "cell_type": "code",
   "execution_count": null,
   "metadata": {
    "scrolled": true
   },
   "outputs": [],
   "source": [
    "%cd tensor_decomposition"
   ]
  },
  {
   "cell_type": "code",
   "execution_count": 1,
   "metadata": {},
   "outputs": [],
   "source": [
    "from TensorDecomp import *\n",
    "import matplotlib.pyplot as plt"
   ]
  },
  {
   "cell_type": "markdown",
   "metadata": {},
   "source": [
    "list of available decomposition types:\n",
    "\n",
    "decomp_list = ['svd', 'parafac', 'tucker', 'matrix_product_state', 'NMF','non_negative_parafac', 'clarkson_woodruff_transform']\n"
   ]
  },
  {
   "cell_type": "code",
   "execution_count": 2,
   "metadata": {},
   "outputs": [],
   "source": [
    "err_fro  = lambda  x, y : norm(x-y, ord='fro') / norm(x, ord='fro') if (x.ndim == 2) else norm(x-y, ord=None) / norm(x, ord=None)\n",
    "err_L1   = lambda  x, y : norm(x-y, ord=1) / norm(x, ord=1) if (x.ndim == 2) else norm(x-y, ord=None) / norm(x, ord=None)\n",
    "err_Linf = lambda  x, y : norm(x-y, ord=inf) / norm(x, ord=inf) if (x.ndim == 2) else norm(x-y, ord=None) / norm(x, ord=None)\n",
    "err_Spec = lambda  x, y : norm(x-y, ord=2) / norm(x, ord=2) if (x.ndim == 2) else norm(x-y, ord=None) / norm(x, ord=None)\n",
    "    \n",
    "normL = [err_fro, err_L1, err_Linf, err_Spec]"
   ]
  },
  {
   "cell_type": "code",
   "execution_count": 3,
   "metadata": {},
   "outputs": [],
   "source": [
    "aTensor = np.random.randint(20, size = (128,64,6))\n",
    "vecL = np.random.randint(5, size = aTensor.shape[1])\n",
    "vecR = np.random.randint(5, size = aTensor.shape[-1])\n",
    "matL = np.random.randint(5, size = aTensor.shape[:-1])\n",
    "matR = np.random.randint(5, size = aTensor.shape[-1:-3:-1])\n",
    "tensor = TensorDecomp(aTensor.astype('float'))"
   ]
  },
  {
   "cell_type": "code",
   "execution_count": 4,
   "metadata": {},
   "outputs": [],
   "source": [
    "errSvd = errList(tensor, svd, vecR, vecL, matR, matL, normL)\n",
    "timeSvd = tensor.decomp_time\n",
    "memSavSvd = tensor.memSaving"
   ]
  },
  {
   "cell_type": "code",
   "execution_count": 26,
   "metadata": {},
   "outputs": [],
   "source": [
    "errTucker = errList(tensor, tucker, vecR, vecL, matR, matL, normL, rank=[128,64,6])\n",
    "timeTucker = tensor.decomp_time\n",
    "memSavTucker = tensor.memSaving"
   ]
  },
  {
   "cell_type": "code",
   "execution_count": 28,
   "metadata": {},
   "outputs": [],
   "source": [
    "errParafac = errList(tensor, parafac, vecR, vecL, matR, matL, normL, rank=384)\n",
    "timeParafac = tensor.decomp_time\n",
    "memSavParafac = tensor.memSaving"
   ]
  },
  {
   "cell_type": "code",
   "execution_count": 16,
   "metadata": {},
   "outputs": [],
   "source": [
    "errTT  = errList(tensor, matrix_product_state, vecR, vecL, matR, matL, normL, rank=[1,128,128,1])\n",
    "timeTT = tensor.decomp_time\n",
    "memSavTT = tensor.memSaving"
   ]
  },
  {
   "cell_type": "code",
   "execution_count": 30,
   "metadata": {},
   "outputs": [],
   "source": [
    "errNNP  = errList(tensor, non_negative_parafac, vecR, vecL, matR, matL, normL, rank= 384)\n",
    "timeNNP = tensor.decomp_time\n",
    "memSavNNP = tensor.memSaving"
   ]
  },
  {
   "cell_type": "code",
   "execution_count": 46,
   "metadata": {},
   "outputs": [
    {
     "data": {
      "text/plain": [
       "Text(0, 0.5, 'Memory Saving [-]')"
      ]
     },
     "execution_count": 46,
     "metadata": {},
     "output_type": "execute_result"
    },
    {
     "data": {
      "image/png": "[encoded data removed]",
      "text/plain": [
       "<Figure size 1440x1152 with 3 Axes>"
      ]
     },
     "metadata": {
      "needs_background": "light"
     },
     "output_type": "display_data"
    }
   ],
   "source": [
    "%matplotlib inline\n",
    "\n",
    "xAxis = ['SVD', 'Tucker', 'Parafac', 'Tensor Train', 'Non-negative Parafac']\n",
    "y0Axis = [errSvd[0][0], errTucker[0][0], errParafac[0][0], errTT[0][0], errNNP[0][0]]\n",
    "y1Axis = [timeSvd, timeTucker, timeParafac, timeTT, timeNNP]\n",
    "y2Axis = [memSavSvd, memSavTucker, memSavParafac, memSavTT, memSavNNP]\n",
    "colors = [\"crimson\",\"deepskyblue\", \"yellowgreen\"]\n",
    "\n",
    "fig, ax = plt.subplots(3, 1, figsize=(20,16), sharex=True)\n",
    "for i in range(3):\n",
    "    ax[i].bar(xAxis, eval('y'+str(i)+'Axis'), color=colors[i])\n",
    "    ax[i].yaxis.grid()\n",
    "    ax[i].set_axisbelow(True)\n",
    "    ax[i].set_ylim(0, np.ceil(max(eval('y'+str(i)+'Axis'))) + np.mean(eval('y'+str(i)+'Axis'))) if max(eval('y'+str(i)+'Axis')) > 0 else ax[i].set_ylim(0, np.floor(min(eval('y'+str(i)+'Axis')))-5)\n",
    "    ax[i].tick_params(axis='both', which='major', labelsize=16)\n",
    "    for h, v in enumerate(eval('y'+str(i)+'Axis')):\n",
    "        ax[i].text(h-.10, v+.0125, str(np.round(v,4)), color='black', size = 16, weight = \"bold\")\n",
    "\n",
    "plt.xlabel(\"Decomposition Types\", fontsize=24)\n",
    "ax[0].set_ylabel(\"Relative Error [-]\", fontsize=18)\n",
    "ax[1].set_ylabel(\"Time [sec]\", fontsize=18)\n",
    "ax[2].set_ylabel(\"Memory Saving [-]\", fontsize=18)"
   ]
  },
  {
   "cell_type": "code",
   "execution_count": 1,
   "metadata": {},
   "outputs": [],
   "source": [
    "#TODO #1\n",
    "# Speed comparion is not implemented. No function definition is defined for decomposed_tensor @ Vec multiplication."
   ]
  },
  {
   "cell_type": "code",
   "execution_count": 2,
   "metadata": {},
   "outputs": [],
   "source": [
    "#TODO #2\n",
    "# For every decomposition type -> Line Plot: decomposition error, speedup time in tensor operations vs decomposed tensor operations."
   ]
  },
  {
   "cell_type": "code",
   "execution_count": 4,
   "metadata": {},
   "outputs": [],
   "source": [
    "# DONE! (11.07.21)\n",
    "# For every decomposition type -> Bar plot: Decomposition error, decomposition time, memory saving"
   ]
  }
 ],
 "metadata": {
  "colab": {
   "include_colab_link": true,
   "name": "tensor_decomposition_test.ipynb",
   "provenance": []
  },
  "kernelspec": {
   "display_name": "Python 3",
   "language": "python",
   "name": "python3"
  },
  "language_info": {
   "codemirror_mode": {
    "name": "ipython",
    "version": 3
   },
   "file_extension": ".py",
   "mimetype": "text/x-python",
   "name": "python",
   "nbconvert_exporter": "python",
   "pygments_lexer": "ipython3",
   "version": "3.9.0"
  }
 },
 "nbformat": 4,
 "nbformat_minor": 1
}
