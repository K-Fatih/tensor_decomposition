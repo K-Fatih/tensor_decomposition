{
 "cells": [
  {
   "cell_type": "markdown",
   "metadata": {
    "colab_type": "text",
    "id": "view-in-github"
   },
   "source": [
    "<a href=\"https://colab.research.google.com/github/shadialameddin/tensor_decomposition/blob/master/tensor_decomposition_test.ipynb\" target=\"_parent\"><img src=\"https://colab.research.google.com/assets/colab-badge.svg\" alt=\"Open In Colab\"/></a>"
   ]
  },
  {
   "cell_type": "markdown",
   "metadata": {
    "id": "y_quEpBUTTvg"
   },
   "source": [
    "http://tensorly.org/stable/auto_examples/index.html#general-examples\n",
    "\n",
    "https://github.com/tensorly/tensorly\n",
    "\n",
    "\n",
    "Sparse backend\n",
    "\n",
    "Kruskal-tensors have been renamed cp_tensors\n",
    "\n",
    "Matrix-product-state has now been renamed tensor-train\n"
   ]
  },
  {
   "cell_type": "code",
   "execution_count": null,
   "metadata": {
    "colab": {
     "base_uri": "https://localhost:8080/"
    },
    "id": "F3DAy_TUQoSc",
    "outputId": "8f864662-289d-4a48-c253-342a4d5df0a4",
    "scrolled": true
   },
   "outputs": [],
   "source": [
    "!pip install -U tensorly --quiet"
   ]
  },
  {
   "cell_type": "code",
   "execution_count": null,
   "metadata": {},
   "outputs": [],
   "source": [
    "import os "
   ]
  },
  {
   "cell_type": "code",
   "execution_count": null,
   "metadata": {},
   "outputs": [],
   "source": [
    "if not os.path.exists('tensor_decomposition') and not os.path.isfile('TensorDecomp.py'):\n",
    "    !git clone https://github.com/shadialameddin/tensor_decomposition.git --quiet"
   ]
  },
  {
   "cell_type": "code",
   "execution_count": null,
   "metadata": {
    "scrolled": true
   },
   "outputs": [],
   "source": [
    "%cd tensor_decomposition"
   ]
  },
  {
   "cell_type": "code",
   "execution_count": 1,
   "metadata": {},
   "outputs": [],
   "source": [
    "from TensorDecomp import *\n",
    "import matplotlib.pyplot as plt\n",
    "from read_h5 import *"
   ]
  },
  {
   "cell_type": "markdown",
   "metadata": {},
   "source": [
    "list of available decomposition types:\n",
    "\n",
    "decomp_list = ['svd', 'parafac', 'tucker', 'matrix_product_state', 'NMF','non_negative_parafac', 'clarkson_woodruff_transform']\n",
    "#### The Error Handles"
   ]
  },
  {
   "cell_type": "code",
   "execution_count": 2,
   "metadata": {},
   "outputs": [],
   "source": [
    "err_fro  = lambda  x, y : norm(x-y, ord='fro') / norm(x, ord='fro')\n",
    "err_L1   = lambda  x, y : norm(x-y, ord=1) / norm(x, ord=1)\n",
    "err_Linf = lambda  x, y : norm(x-y, ord=inf) / norm(x, ord=inf)\n",
    "err_Spec = lambda  x, y : norm(x-y, ord=2) / norm(x, ord=2)\n",
    "    \n",
    "normL = [err_fro, err_L1, err_Linf, err_Spec]"
   ]
  },
  {
   "cell_type": "markdown",
   "metadata": {},
   "source": [
    "### Scene Setup"
   ]
  },
  {
   "cell_type": "code",
   "execution_count": 3,
   "metadata": {},
   "outputs": [
    {
     "name": "stdout",
     "output_type": "stream",
     "text": [
      "done reading h5 file\n",
      "The tensor dimension:\t (8744, 6, 64)\n"
     ]
    }
   ],
   "source": [
    "# the tensor of interest \n",
    "number_of_phases, material_index, weights, truncated_strain_modes, singular_values = load_reduced_basis(file_name='data/laminate_sphere.h5', number_of_modes=64)\n",
    "\n",
    "tensor = np.einsum('...k,k->...k', truncated_strain_modes, singular_values, optimize='optimal')\n",
    "ngp, d, N = tensor.shape\n",
    "\n",
    "#ngp, d, N = 312,32,128\n",
    "#tensor = np.random.rand(ngp,d,N)\n",
    "\n",
    "print(\"The tensor dimension:\\t\",tensor.shape)\n",
    "\n",
    "# two derived matrices of the tensor (unfolding)\n",
    "mat_repr1_tens = tensor.reshape(-1, N)\n",
    "mat_repr2_tens = tensor.reshape(ngp,-1)\n",
    "\n",
    "# a vector with appropriate dimension to perform operations\n",
    "vec = np.random.rand(N)\n",
    "\n",
    "# a matrix with appropriate dimensions to perform operations\n",
    "someMatrix = np.random.rand(ngp, d)\n",
    "\n",
    "# a tensor with appropriate dimensions to perform operations\n",
    "someTensor = np.random.rand(ngp, d, d)\n",
    "\n",
    "### Some Tensor Operations ###\n",
    "\n",
    "# tensor x some vector\n",
    "tensVec = tensor@vec\n",
    "\n",
    "# tensor x some matrix\n",
    "tensMat = np.einsum('ilk,il->k', tensor, someMatrix, optimize='optimal')\n",
    "\n",
    "# tensor x some tensor x tensor\n",
    "tensTenstens = np.einsum('ilk,ilm,imp->kp', tensor, someTensor, tensor, optimize='optimal')\n",
    "\n",
    "# matrix representation of a tensor x some vector\n",
    "matRepr1Vec = mat_repr1_tens@vec\n",
    "\n",
    "# matrix representation of tensor x some matrix\n",
    "matRepr1Mat = mat_repr1_tens.T@someMatrix.flatten()\n",
    "\n",
    "# matrix representations of a tensor x some tensor x matrix representations of a tensor\n",
    "matReprTensMatRepr = mat_repr1_tens.T @ blk_diag(someTensor) @ mat_repr1_tens\n",
    "\n",
    "### TIME MEASUREMENT OF TENSOR OPERATIONS ###\n",
    "n = 1000\n",
    "\n",
    "# time of tensor x some vector\n",
    "time_tensVec = timeit.timeit( lambda: tensor@vec, number = n)/n\n",
    "\n",
    "# time of tensor x some matrix\n",
    "time_tensMat = timeit.timeit(lambda:np.einsum('ilk,il->k', tensor, someMatrix, optimize='optimal'), number = n)/n\n",
    "\n",
    "# time of tensor x some other tensor x tensor\n",
    "time_tensTenstens = timeit.timeit( lambda:np.einsum('ilk,ilm,imp->kp', tensor, someTensor, tensor, optimize='optimal'), number = n)/n\n",
    "\n",
    "# time of matrix representation of a tensor x some vector\n",
    "time_matRepr1Vec = timeit.timeit( lambda: mat_repr1_tens@vec, number = n)/n\n",
    "\n",
    "# time of matrix representations of a tensor x some tensor x matrix representations of a tensor\n",
    "bsr = blk_diag(someTensor)\n",
    "time_matReprTensMatRepr = timeit.timeit( lambda:mat_repr1_tens.T @ bsr @ mat_repr1_tens, number = n)/n\n",
    "\n",
    "# time of matrix representation of tensor x some matrix\n",
    "flattedMat = someMatrix.flatten()\n",
    "time_matRepr1Mat = timeit.timeit( lambda: mat_repr1_tens.T@flattedMat, number = n)/n"
   ]
  },
  {
   "cell_type": "markdown",
   "metadata": {},
   "source": [
    "# SVD"
   ]
  },
  {
   "cell_type": "code",
   "execution_count": 4,
   "metadata": {
    "scrolled": false
   },
   "outputs": [
    {
     "name": "stdout",
     "output_type": "stream",
     "text": [
      "(52464, 6) (6,) (6, 64)\n"
     ]
    }
   ],
   "source": [
    "svd_rank = 6\n",
    "u, s, vt = svds(mat_repr1_tens, svd_rank)\n",
    "print(u.shape,s.shape,vt.shape)"
   ]
  },
  {
   "cell_type": "markdown",
   "metadata": {},
   "source": [
    "### Decomposition Time"
   ]
  },
  {
   "cell_type": "code",
   "execution_count": 5,
   "metadata": {
    "scrolled": true
   },
   "outputs": [
    {
     "name": "stdout",
     "output_type": "stream",
     "text": [
      "Average SVD Decomposition Time:\t 0.14999433999999995\n"
     ]
    }
   ],
   "source": [
    "n = 20\n",
    "svdDecTime = timeit.timeit((lambda: svds(mat_repr1_tens, svd_rank)), number=n)/n\n",
    "print(\"Average SVD Decomposition Time:\\t\", svdDecTime)"
   ]
  },
  {
   "cell_type": "markdown",
   "metadata": {},
   "source": [
    "### Memory Saving"
   ]
  },
  {
   "cell_type": "code",
   "execution_count": 6,
   "metadata": {},
   "outputs": [
    {
     "name": "stdout",
     "output_type": "stream",
     "text": [
      "Memory saving with SVD using 6 Rank:\t 0.9061338489249772\n"
     ]
    }
   ],
   "source": [
    "memSavSvd = (tensor.nbytes - sum(f.nbytes for f in [u,s,vt])) / tensor.nbytes\n",
    "print(f\"Memory saving with SVD using {svd_rank} Rank:\\t\", memSavSvd)"
   ]
  },
  {
   "cell_type": "markdown",
   "metadata": {},
   "source": [
    "### Decomposition Error"
   ]
  },
  {
   "cell_type": "code",
   "execution_count": 7,
   "metadata": {},
   "outputs": [
    {
     "name": "stdout",
     "output_type": "stream",
     "text": [
      "Frobenius Norm of the SVD Decomposition Error:\t 0.4111777280694063\n",
      "L1 Norm of the SVD Decomposition Error:\t\t 0.325093383261072\n",
      "L infinity Norm of the SVD Decomposition Error:\t 0.5775008026743985\n",
      "Spectral Norm of the SVD Decomposition Error:\t 0.3045628245544942\n"
     ]
    }
   ],
   "source": [
    "mat_repr1_recons = u @ np.diag(s) @ vt\n",
    "svdFro, svdL1, svdLinf, svdSpec = [error(mat_repr1_tens, mat_repr1_recons) for error in normL ]\n",
    "\n",
    "print(\"Frobenius Norm of the SVD Decomposition Error:\\t\", svdFro)\n",
    "print(\"L1 Norm of the SVD Decomposition Error:\\t\\t\", svdL1)\n",
    "print(\"L infinity Norm of the SVD Decomposition Error:\\t\", svdLinf)\n",
    "print(\"Spectral Norm of the SVD Decomposition Error:\\t\", svdSpec)\n",
    "\n",
    "svdError = [svdFro, svdL1, svdLinf,svdSpec]"
   ]
  },
  {
   "cell_type": "markdown",
   "metadata": {},
   "source": [
    "### Error in Decomposed Tensor Operations"
   ]
  },
  {
   "cell_type": "code",
   "execution_count": 8,
   "metadata": {
    "scrolled": true
   },
   "outputs": [
    {
     "name": "stdout",
     "output_type": "stream",
     "text": [
      "0.3837646061913742 0.4060298617160444 0.36104507573956734 0.33685165708539716\n",
      "0.6284265008724096\n",
      "0.20338650483971382 0.23437262601183267 0.23337940895772202 0.11485825635924429\n"
     ]
    }
   ],
   "source": [
    "# svd of matrix representation of tensor x some vector\n",
    "svdMatReprVec = u @ (np.diag(s) @ (vt @ vec))\n",
    "\n",
    "# svd of matrix representation of tensor x some matrix\n",
    "svdMatReprMat = vt.T @ np.diag(s) @ ( u.T @ someMatrix.flatten())\n",
    "\n",
    "# svd of matrix representation of tensor x some Tensor x svd of matrix representation of tensor\n",
    "svdMatReprTenssvdMatRepr = vt.T @ np.diag(s) @ ( u.T @ bsr @ u) @ np.diag(s) @ vt\n",
    "\n",
    "svdDecVec_fro, svdDecVec_L1, svdDecVec_Linf, svdDecVec_L2 = [norm(tensVec,svdMatReprVec.reshape(tensVec.shape)) for norm in normL]\n",
    "print(svdDecVec_fro, svdDecVec_L1, svdDecVec_Linf, svdDecVec_L2)\n",
    "\n",
    "tensMat_svdMatReprMat_L2 = err_Spec(tensMat,svdMatReprMat)\n",
    "print(tensMat_svdMatReprMat_L2)\n",
    "\n",
    "svdMatReprTenssvdMatRepr_tensTenstens_fro, svdMatReprTenssvdMatRepr_tensTenstens_L1, svdMatReprTenssvdMatRepr_tensTenstens_Linf, svdMatReprTenssvdMatRepr_tensTenstens_L2 = [norm(tensTenstens,svdMatReprTenssvdMatRepr) for norm in normL]\n",
    "print(svdMatReprTenssvdMatRepr_tensTenstens_fro, svdMatReprTenssvdMatRepr_tensTenstens_L1, svdMatReprTenssvdMatRepr_tensTenstens_Linf, svdMatReprTenssvdMatRepr_tensTenstens_L2)"
   ]
  },
  {
   "cell_type": "markdown",
   "metadata": {},
   "source": [
    "### Decomposition Speed Up Measures in Tensor Operations"
   ]
  },
  {
   "cell_type": "code",
   "execution_count": 9,
   "metadata": {},
   "outputs": [
    {
     "name": "stdout",
     "output_type": "stream",
     "text": [
      "1.4747941718795132 7.897961275917265 11.647867259452866\n",
      "1.167656094049635 16.888642284389704 19.720126083591985\n",
      "1.488041797868805 5.969946581352623 8.883530044096682\n"
     ]
    }
   ],
   "source": [
    "# time of svd of matrix representation of tensor x some vector\n",
    "time_svdMatReprVec = timeit.timeit( lambda:u @ (np.diag(s) @ (vt @ vec)), number = n)/n\n",
    "\n",
    "# time of svd of matrix representation of tensor x some matrix\n",
    "time_svdMatReprMat = timeit.timeit( lambda:vt.T @ np.diag(s) @ ( u.T @ flattedMat), number = n)/n\n",
    "\n",
    "# time of svd of matrix representation of tensor x some Tensor x svd of matrix representation of tensor x some\n",
    "time_svdMatReprTenssvdMatRepr = timeit.timeit( lambda:vt.T @ np.diag(s) @ ( u.T @ bsr @ u) @ np.diag(s) @ vt, number = n)/n\n",
    "\n",
    "# Speed up in operations\n",
    "\n",
    "### \n",
    "speedup_tensVec_matReprVec = time_tensVec / time_matRepr1Vec\n",
    "speedup_matRepr1Vec_svdMatReprVec =  time_matRepr1Vec / time_svdMatReprVec\n",
    "speedup_tensVec_svdMatReprVec = time_tensVec / time_svdMatReprVec\n",
    "\n",
    "###\n",
    "speedup_tensMat_matRepr1Mat = time_tensMat / time_matRepr1Mat\n",
    "speedup_matRepr1Mat_svdMatReprMat = time_matRepr1Mat / time_svdMatReprMat\n",
    "speedup_tensMat_svdMatReprMat = time_tensMat / time_svdMatReprMat\n",
    "\n",
    "###\n",
    "speedup_tenstenstens_matReprTensMatRepr = time_tensTenstens / time_matReprTensMatRepr\n",
    "speedup_matReprTensMatRepr_svdMatReprTenssvdMatRepr = time_matReprTensMatRepr / time_svdMatReprTenssvdMatRepr \n",
    "speedup_tenstenstens_svdMatReprTenssvdMatRepr = time_tensTenstens / time_svdMatReprTenssvdMatRepr \n",
    "\n",
    "print(speedup_tensVec_matReprVec, speedup_matRepr1Vec_svdMatReprVec, speedup_tensVec_svdMatReprVec)\n",
    "print(speedup_tensMat_matRepr1Mat, speedup_matRepr1Mat_svdMatReprMat, speedup_tensMat_svdMatReprMat)\n",
    "print(speedup_tenstenstens_matReprTensMatRepr, speedup_matReprTensMatRepr_svdMatReprTenssvdMatRepr, speedup_tenstenstens_svdMatReprTenssvdMatRepr )"
   ]
  },
  {
   "cell_type": "markdown",
   "metadata": {},
   "source": [
    "# Tucker Decomposition"
   ]
  },
  {
   "cell_type": "code",
   "execution_count": 10,
   "metadata": {
    "scrolled": true
   },
   "outputs": [
    {
     "name": "stdout",
     "output_type": "stream",
     "text": [
      "Core Dimension:\t\t (6, 6, 6)\n",
      "Factors Dimensions:\t [(8744, 6), (6, 6), (64, 6)]\n"
     ]
    }
   ],
   "source": [
    "rank_tucker = (6,6,6)\n",
    "core, factors = tucker(tensor, rank_tucker)\n",
    "print(\"Core Dimension:\\t\\t\",core.shape)\n",
    "print(\"Factors Dimensions:\\t\", [f.shape for f in factors])"
   ]
  },
  {
   "cell_type": "markdown",
   "metadata": {},
   "source": [
    "### Decomposition Time"
   ]
  },
  {
   "cell_type": "code",
   "execution_count": 11,
   "metadata": {},
   "outputs": [
    {
     "name": "stdout",
     "output_type": "stream",
     "text": [
      "Average Tucker Decomposition Time:\t 0.5300747400000005\n"
     ]
    }
   ],
   "source": [
    "n = 10\n",
    "tuckerDecTime = timeit.timeit((lambda: tucker(tensor, rank_tucker)), number=n)/n\n",
    "print(\"Average Tucker Decomposition Time:\\t\", tuckerDecTime)"
   ]
  },
  {
   "cell_type": "markdown",
   "metadata": {},
   "source": [
    "### Memory Saving"
   ]
  },
  {
   "cell_type": "code",
   "execution_count": 12,
   "metadata": {},
   "outputs": [
    {
     "name": "stdout",
     "output_type": "stream",
     "text": [
      "Memory saving with Tucker Decomposition using (6, 6, 6) Rank:\t 0.9841855844007319\n"
     ]
    }
   ],
   "source": [
    "memSavTucker = (tensor.nbytes - (core.nbytes + sum(f.nbytes for f in factors))) / tensor.nbytes\n",
    "print(f\"Memory saving with Tucker Decomposition using {rank_tucker} Rank:\\t\", memSavTucker)"
   ]
  },
  {
   "cell_type": "markdown",
   "metadata": {},
   "source": [
    "### Decomposition Error"
   ]
  },
  {
   "cell_type": "code",
   "execution_count": 13,
   "metadata": {},
   "outputs": [
    {
     "name": "stdout",
     "output_type": "stream",
     "text": [
      "Frobenius Norm of the Tucker Decomposition Error:\t 0.6288289642879412\n",
      "L1 Norm of the Tucker Decomposition Error:\t\t 0.5519039730420082\n",
      "L infinity Norm of the Tucker Decomposition Error:\t 0.8860094949709493\n",
      "Spectral Norm of the Tucker Decomposition Error:\t 0.5640353508223318\n"
     ]
    }
   ],
   "source": [
    "tensor_approx_tucker = np.einsum('lmn,il,jm,kn->ijk',core,factors[0],factors[1],factors[2])\n",
    "tuckerFro, tuckerL1, tuckerLinf, tuckerSpec = [error(tensor.reshape(-1,N), tensor_approx_tucker.reshape(-1,N)) for error in normL ]\n",
    "\n",
    "print(\"Frobenius Norm of the Tucker Decomposition Error:\\t\", tuckerFro)\n",
    "print(\"L1 Norm of the Tucker Decomposition Error:\\t\\t\", tuckerL1)\n",
    "print(\"L infinity Norm of the Tucker Decomposition Error:\\t\", tuckerLinf)\n",
    "print(\"Spectral Norm of the Tucker Decomposition Error:\\t\", tuckerSpec)\n",
    "\n",
    "tuckerError = [tuckerFro, tuckerL1, tuckerLinf, tuckerSpec]"
   ]
  },
  {
   "cell_type": "markdown",
   "metadata": {},
   "source": [
    "### Decomposed Tensor Operations"
   ]
  },
  {
   "cell_type": "code",
   "execution_count": 14,
   "metadata": {},
   "outputs": [],
   "source": [
    "# decomposed tensor @ vec\n",
    "tuckerTens_Vec = np.einsum('klm,pk,rl,s->pr', core, factors[0], factors[1], factors[2].T @ vec)\n",
    "\n",
    "# decomposed tensor @ mat\n",
    "tuckerTens_Mat = np.einsum('klm,pk,pl,rm->r', core, (someMatrix.T@factors[0]), factors[1], factors[2])\n",
    "\n",
    "# decomposed tensor @ someTensor @ decomposed tensor\n",
    "# tuckerTens_tensor_tuckerTens = np.einsum( ,optimize='optimal')"
   ]
  },
  {
   "cell_type": "markdown",
   "metadata": {},
   "source": [
    "### Error between decomposed tensor - matrix and tensor-matrix operations"
   ]
  },
  {
   "cell_type": "code",
   "execution_count": 15,
   "metadata": {},
   "outputs": [
    {
     "name": "stdout",
     "output_type": "stream",
     "text": [
      "1.3079992345706914 1.2382926828832734 1.1029750410557393 1.1608104097086056\n",
      "0.7449993500193911\n"
     ]
    }
   ],
   "source": [
    "tuckerTensVec_fro, tuckerTensVec_L1, tuckerTensVec_Linf, tuckerTensVec_L2 = [error(tensVec, tuckerTens_Vec ) for error in normL]\n",
    "\n",
    "print(tuckerTensVec_fro, tuckerTensVec_L1, tuckerTensVec_Linf, tuckerTensVec_L2)\n",
    "\n",
    "tuckerTensMat_L2 = err_Spec(tensMat, tuckerTens_Mat) \n",
    "\n",
    "print(tuckerTensMat_L2)\n",
    "\n",
    "#tuckerTensTens_fro, tuckerTensTens_L1, tuckerTensTens_Linf, tuckerTensTens_L2 = [error(tensTenstens, d) for error in normL]\n",
    "#print(tuckerTensTens_fro, tuckerTensTens_L1, tuckerTensTens_Linf, tuckerTensTens_L2)"
   ]
  },
  {
   "cell_type": "markdown",
   "metadata": {},
   "source": [
    "### Decomposition Speed Up Measures in Tensor Operations"
   ]
  },
  {
   "cell_type": "code",
   "execution_count": 16,
   "metadata": {},
   "outputs": [],
   "source": [
    "n = 100\n",
    "\n",
    "# time of tucker tensor x some vector\n",
    "time_tuckerTens_Vec = timeit.timeit(lambda:np.einsum('klm,pk,rl,s->pr', core, factors[0], factors[1], factors[2].T @ vec, optimize ='optimal'), number = n)/n\n",
    "\n",
    "# time of tucker tensor x some matrix\n",
    "time_tuckerTens_Mat = timeit.timeit( lambda:np.einsum('klm,pk,pl,rm->r', core, (someMatrix.T@factors[0]), factors[1], factors[2],optimize ='optimal'), number = n)/n\n",
    "\n",
    "# time of tucker tensor x some Tensor x tucker tensor\n",
    "#time_parTens_tensor_parTens = timeit.timeit( lambda:vt.T @ np.diag(s) @ ( u.T @ blk_diag(someTensor) @ u) @ np.diag(s) @ vt, number = n)/n"
   ]
  },
  {
   "cell_type": "code",
   "execution_count": 17,
   "metadata": {},
   "outputs": [
    {
     "name": "stdout",
     "output_type": "stream",
     "text": [
      "4.081055389387792 2.9879188767022216\n"
     ]
    }
   ],
   "source": [
    "speedUP_tensVec_tuckerTensVec = time_tensVec / time_tuckerTens_Vec\n",
    "speedUP_tensMat_tuckerTensMat = time_tensMat / time_tuckerTens_Mat\n",
    "#speedUP_tensTensortens_parTensTensorParTens = time_tensTenstens / time_time_parTens_tensor_parTens\n",
    "\n",
    "print(speedUP_tensVec_tuckerTensVec,speedUP_tensMat_tuckerTensMat)"
   ]
  },
  {
   "cell_type": "markdown",
   "metadata": {},
   "source": [
    "# Parafac Decomposition"
   ]
  },
  {
   "cell_type": "code",
   "execution_count": 18,
   "metadata": {},
   "outputs": [
    {
     "name": "stdout",
     "output_type": "stream",
     "text": [
      "Parafac weight dimension:\t (6,)\n",
      "Parafac factors dimension:\t [(8744, 6), (6, 6), (64, 6)]\n"
     ]
    }
   ],
   "source": [
    "rank_parafac = 6\n",
    "weight, factors = parafac(tensor, rank_parafac)\n",
    "\n",
    "print(\"Parafac weight dimension:\\t\",weight.shape)\n",
    "print(\"Parafac factors dimension:\\t\", [f.shape for f in factors])"
   ]
  },
  {
   "cell_type": "markdown",
   "metadata": {},
   "source": [
    "### Decomposition Time"
   ]
  },
  {
   "cell_type": "code",
   "execution_count": 19,
   "metadata": {},
   "outputs": [
    {
     "name": "stdout",
     "output_type": "stream",
     "text": [
      "Average Parafac Decomposition Time:\t 13.364541380000002\n"
     ]
    }
   ],
   "source": [
    "n = 20\n",
    "parDecTime = timeit.timeit((lambda: parafac(tensor, rank_parafac)), number=n)/n\n",
    "print(\"Average Parafac Decomposition Time:\\t\", parDecTime)"
   ]
  },
  {
   "cell_type": "markdown",
   "metadata": {},
   "source": [
    "### Memory Saving"
   ]
  },
  {
   "cell_type": "code",
   "execution_count": 20,
   "metadata": {},
   "outputs": [
    {
     "name": "stdout",
     "output_type": "stream",
     "text": [
      "Memory saving with Parafac using 6 Rank:\t 0.9842481272872827\n"
     ]
    }
   ],
   "source": [
    "parMemSav = (tensor.nbytes - (weight.nbytes + sum(f.nbytes for f in factors))) / tensor.nbytes\n",
    "print(f\"Memory saving with Parafac using {rank_parafac} Rank:\\t\", parMemSav)"
   ]
  },
  {
   "cell_type": "markdown",
   "metadata": {},
   "source": [
    "### Decomposition Error"
   ]
  },
  {
   "cell_type": "code",
   "execution_count": 21,
   "metadata": {},
   "outputs": [
    {
     "name": "stdout",
     "output_type": "stream",
     "text": [
      "Frobenius Norm of the Parafac Decomposition Error:\t 0.649230348259399\n",
      "L1 Norm of the Parafac Decomposition Error:\t\t 0.5769081483992029\n",
      "L infinity Norm of the Parafac Decomposition Error:\t 0.9502458725846876\n",
      "Spectral Norm of the Parafac Decomposition Error:\t 0.6092171013380203\n"
     ]
    }
   ],
   "source": [
    "tensor_approx_parafac = np.einsum('il,jl,kl->ijk',(factors[0]*weight),factors[1],factors[2])\n",
    "parFro, parL1, parLinf, parSpec = [error(tensor.reshape(-1,N), tensor_approx_parafac.reshape(-1,N)) for error in normL ]\n",
    "\n",
    "print(\"Frobenius Norm of the Parafac Decomposition Error:\\t\", parFro)\n",
    "print(\"L1 Norm of the Parafac Decomposition Error:\\t\\t\", parL1)\n",
    "print(\"L infinity Norm of the Parafac Decomposition Error:\\t\", parLinf)\n",
    "print(\"Spectral Norm of the Parafac Decomposition Error:\\t\", parSpec)\n",
    "\n",
    "parafacError = [parFro,parL1,parLinf,parSpec]"
   ]
  },
  {
   "cell_type": "markdown",
   "metadata": {},
   "source": [
    "### Decomposed Tensor Operations"
   ]
  },
  {
   "cell_type": "code",
   "execution_count": 22,
   "metadata": {},
   "outputs": [],
   "source": [
    "# decomposed tensor @ vec\n",
    "parTens_Vec = np.einsum('il,jl,l->ij',(factors[0]*weight),factors[1],factors[2].T @ vec)\n",
    "\n",
    "# decomposed tensor @ mat\n",
    "parTens_Mat = np.einsum('k,mk,mk,ok->o', weight, someMatrix.T@factors[0], factors[1], factors[2])\n",
    "\n",
    "\n",
    "# decomposed tensor @ someTensor @ decomposed tensor\n",
    "#parTens_tensor_parTens = np.einsum( optimize='optimal')"
   ]
  },
  {
   "cell_type": "markdown",
   "metadata": {},
   "source": [
    "### Error between decomposed tensor - matrix and tensor-matrix operations"
   ]
  },
  {
   "cell_type": "code",
   "execution_count": 23,
   "metadata": {},
   "outputs": [
    {
     "name": "stdout",
     "output_type": "stream",
     "text": [
      "0.6482586009685699 0.6294938027187568 0.7219396823715208 0.5079731371746586\n",
      "0.7229465109169088\n"
     ]
    }
   ],
   "source": [
    "parTensVec_fro, parTensVec_L1, parTensVec_Linf, parTensVec_L2 = [error(tensVec, parTens_Vec ) for error in normL]\n",
    "\n",
    "print(parTensVec_fro, parTensVec_L1, parTensVec_Linf, parTensVec_L2)\n",
    "\n",
    "parTensMat_L2 = err_Spec(tensMat, parTens_Mat) \n",
    "\n",
    "print(parTensMat_L2)\n",
    "\n",
    "#parTensTens_fro, parTensTens_L1, parTensTens_Linf, parTensTens_L2 = [error(tensTenstens, parTensTens) for error in normL]"
   ]
  },
  {
   "cell_type": "markdown",
   "metadata": {},
   "source": [
    "### Decomposition Speed Up Measures in Tensor Operations"
   ]
  },
  {
   "cell_type": "code",
   "execution_count": 24,
   "metadata": {},
   "outputs": [],
   "source": [
    "n=100\n",
    "\n",
    "# time of Parafac tensor x some vector\n",
    "time_parTens_Vec = timeit.timeit(lambda:np.einsum('il,jl,l->ij',(factors[0]*weight),factors[1],factors[2].T @ vec, optimize ='optimal'), number = n)/n\n",
    "\n",
    "# time of Parafac tensor x some matrix\n",
    "time_parTens_Mat = timeit.timeit( lambda:np.einsum('k,mn,op->o', ((someMatrix.T@factors[0])@weight), factors[1], factors[2],optimize ='optimal'), number = n)/n\n",
    "\n",
    "# time of Parafac tensor x some Tensor x Parafac tensor\n",
    "#time_parTens_tensor_parTens = timeit.timeit( )/n"
   ]
  },
  {
   "cell_type": "code",
   "execution_count": 25,
   "metadata": {},
   "outputs": [
    {
     "name": "stdout",
     "output_type": "stream",
     "text": [
      "6.661384735510297 6.367815328050693\n"
     ]
    }
   ],
   "source": [
    "speedUP_tensVec_parTensVec = time_tensVec / time_parTens_Vec\n",
    "speedUP_tensMat_parTensMat = time_tensMat / time_parTens_Mat\n",
    "#speedUP_tensTensortens_parTensTensorParTens = time_tensTenstens / time_time_parTens_tensor_parTens\n",
    "\n",
    "print(speedUP_tensVec_parTensVec,speedUP_tensMat_parTensMat)"
   ]
  },
  {
   "cell_type": "markdown",
   "metadata": {},
   "source": [
    "# Tensor Train (matrix product state)"
   ]
  },
  {
   "cell_type": "code",
   "execution_count": 26,
   "metadata": {},
   "outputs": [
    {
     "name": "stdout",
     "output_type": "stream",
     "text": [
      "Tensor Train factors dimension:\t [(1, 8744, 6), (6, 6, 6), (6, 64, 1)]\n"
     ]
    }
   ],
   "source": [
    "rank_tt = 6\n",
    "factors = matrix_product_state(tensor, (1,rank_tt,rank_tt,1))\n",
    "print(\"Tensor Train factors dimension:\\t\", [f.shape for f in factors])"
   ]
  },
  {
   "cell_type": "markdown",
   "metadata": {},
   "source": [
    "### Decomposition Time"
   ]
  },
  {
   "cell_type": "code",
   "execution_count": 27,
   "metadata": {},
   "outputs": [
    {
     "name": "stdout",
     "output_type": "stream",
     "text": [
      "Average Tensor Train Decomposition Time:\t 0.039115606000000296\n"
     ]
    }
   ],
   "source": [
    "n = 50\n",
    "ttDecTime = timeit.timeit((lambda: matrix_product_state(tensor, (1,rank_tt,rank_tt,1))), number=n)/n\n",
    "print(\"Average Tensor Train Decomposition Time:\\t\", ttDecTime)"
   ]
  },
  {
   "cell_type": "markdown",
   "metadata": {},
   "source": [
    "### Memory Saving"
   ]
  },
  {
   "cell_type": "code",
   "execution_count": 28,
   "metadata": {},
   "outputs": [
    {
     "name": "stdout",
     "output_type": "stream",
     "text": [
      "Memory saving with Tensor Train Decomposition using 6 Rank:\t 0.9841963060384263\n"
     ]
    }
   ],
   "source": [
    "memSavTT = (tensor.nbytes - sum(f.nbytes for f in factors)) / tensor.nbytes\n",
    "print(f\"Memory saving with Tensor Train Decomposition using {rank_tt} Rank:\\t\", memSavTT)"
   ]
  },
  {
   "cell_type": "markdown",
   "metadata": {},
   "source": [
    "### Decomposition Error"
   ]
  },
  {
   "cell_type": "code",
   "execution_count": 29,
   "metadata": {},
   "outputs": [
    {
     "name": "stdout",
     "output_type": "stream",
     "text": [
      "Frobenius Norm of the Tensor Train Decomposition Error:\t\t 0.6307608199446076\n",
      "L1 Norm of the Tensor Train Decomposition Error:\t\t 0.5604461258438658\n",
      "L infinity Norm of the Tensor Train Decomposition Error:\t 0.911630116052108\n",
      "Spectral Norm of the Tensor Train Decomposition Error:\t\t 0.5770307500749138\n"
     ]
    }
   ],
   "source": [
    "tensor_approx_tt = np.einsum('nil,ljm,mkn->ijk',factors[0],factors[1],factors[2])\n",
    "ttFro, ttL1, ttLinf, ttSpec = [error(tensor.reshape(-1,N), tensor_approx_tt.reshape(-1,N)) for error in normL ]\n",
    "\n",
    "print(\"Frobenius Norm of the Tensor Train Decomposition Error:\\t\\t\", ttFro)\n",
    "print(\"L1 Norm of the Tensor Train Decomposition Error:\\t\\t\", ttL1)\n",
    "print(\"L infinity Norm of the Tensor Train Decomposition Error:\\t\", ttLinf)\n",
    "print(\"Spectral Norm of the Tensor Train Decomposition Error:\\t\\t\", ttSpec)\n",
    "\n",
    "ttError = [ttFro, ttL1, ttLinf, ttSpec]"
   ]
  },
  {
   "cell_type": "markdown",
   "metadata": {},
   "source": [
    "### Decomposed Tensor Operations"
   ]
  },
  {
   "cell_type": "code",
   "execution_count": 30,
   "metadata": {},
   "outputs": [],
   "source": [
    "# decomposed tensor @ vec\n",
    "ttTens_Vec = (factors[0].reshape(-1, factors[0].shape[-1])) @ (factors[1]@(factors[2].reshape(-1,factors[2].shape[1]) @ vec))\n",
    "# decomposed tensor @ mat\n",
    "someMatrix.T@factors[0].reshape(-1,factors[0].shape[-1])\n",
    "ttTens_Mat = np.einsum('bc,cbc,cde->d',someMatrix.T@factors[0].reshape(-1,factors[0].shape[-1]), factors[1], factors[2])\n",
    "\n",
    "# decomposed tensor @ someTensor @ decomposed tensor\n",
    "#tuckerTens_tensor_tuckerTens = np.einsum( optimize='optimal')"
   ]
  },
  {
   "cell_type": "markdown",
   "metadata": {},
   "source": [
    "### Error between decomposed tensor - matrix and tensor-matrix operations"
   ]
  },
  {
   "cell_type": "code",
   "execution_count": 31,
   "metadata": {},
   "outputs": [
    {
     "name": "stdout",
     "output_type": "stream",
     "text": [
      "0.6525438624377919 0.7944907837624486 0.7315440114712188 0.5871982157239831\n",
      "1.0271615964113687\n"
     ]
    }
   ],
   "source": [
    "ttTensVec_fro, ttTensVec_L1, ttTensVec_Linf, ttTensVec_L2 = [error(tensVec, ttTens_Vec ) for error in normL]\n",
    "\n",
    "print(ttTensVec_fro, ttTensVec_L1, ttTensVec_Linf, ttTensVec_L2)\n",
    "\n",
    "ttTensMat_L2 = err_Spec(tensMat,ttTens_Mat)\n",
    "print(ttTensMat_L2)\n",
    "\n",
    "#parTensTens_fro, parTensTens_L1, parTensTens_Linf, parTensTens_L2 = [error(tensTenstens, parTensTens) for error in normL]"
   ]
  },
  {
   "cell_type": "markdown",
   "metadata": {},
   "source": [
    "### Decomposition Speed Up Measures in Tensor Operations"
   ]
  },
  {
   "cell_type": "code",
   "execution_count": 32,
   "metadata": {},
   "outputs": [],
   "source": [
    "n=100\n",
    "\n",
    "# time of tt tensor x some vector\n",
    "time_ttTens_Vec = timeit.timeit(lambda: (factors[0].reshape(-1, factors[0].shape[-1])) @ (factors[1]@(factors[2].reshape(-1,factors[2].shape[1]) @ vec)), number = n)/n\n",
    "\n",
    "# time of tt tensor x some matrix\n",
    "time_ttTens_Mat = timeit.timeit(lambda: np.einsum('bc,cbc,cde->d',someMatrix.T@factors[0].reshape(-1,factors[0].shape[-1]), factors[1], factors[2], optimize = 'optimal'), number = n)/n\n",
    "\n",
    "# time of tt tensor x some Tensor x tucker tensor\n",
    "#time_ttTens_tensor_ttTens = timeit.timeit( )"
   ]
  },
  {
   "cell_type": "code",
   "execution_count": 33,
   "metadata": {},
   "outputs": [
    {
     "name": "stdout",
     "output_type": "stream",
     "text": [
      "7.111303661697271 2.874094241573456\n"
     ]
    }
   ],
   "source": [
    "speedUP_tensVec_ttTensVec = time_tensVec / time_ttTens_Vec\n",
    "speedUP_tensMat_ttTensMat = time_tensMat / time_ttTens_Mat\n",
    "#speedUP_tensTensortens_ttTensTensorParTens = time_tensTenstens / time_ttTens_tensor_ttTens\n",
    "\n",
    "print(speedUP_tensVec_ttTensVec, speedUP_tensMat_ttTensMat)"
   ]
  },
  {
   "cell_type": "markdown",
   "metadata": {},
   "source": [
    "# PLOTS"
   ]
  },
  {
   "cell_type": "markdown",
   "metadata": {},
   "source": [
    " ## Bar plot for error, time, memory saving (among the decomposition types)"
   ]
  },
  {
   "cell_type": "code",
   "execution_count": 34,
   "metadata": {},
   "outputs": [],
   "source": [
    "import matplotlib.ticker as mtick\n",
    "%matplotlib inline\n",
    "nameAxis = ['SVD '+f'\\n(Rank: {svd_rank})', 'Tucker '+f'\\n(Rank: {rank_tucker})', 'Parafac '+f'\\n(Rank: {rank_parafac})', 'Tensor Train '+f'\\n(Rank: {rank_tt})' ]\n",
    "decErrAxis = [100*svdFro, 100*tuckerFro, 100*parFro, 100*ttFro]\n",
    "decTimeAxis = [svdDecTime, tuckerDecTime, parDecTime, ttDecTime]\n",
    "memSavAxis = [100*memSavSvd, 100*memSavTucker, 100*parMemSav, 100*memSavTT ]\n"
   ]
  },
  {
   "cell_type": "code",
   "execution_count": 35,
   "metadata": {},
   "outputs": [
    {
     "data": {
      "image/png": "[encoded data removed]",
      "text/plain": [
       "<Figure size 1440x1152 with 2 Axes>"
      ]
     },
     "metadata": {
      "needs_background": "light"
     },
     "output_type": "display_data"
    }
   ],
   "source": [
    "colors = [\"deepskyblue\", \"yellowgreen\"]\n",
    "y_axis = [decTimeAxis, memSavAxis ]\n",
    "fig, ax = plt.subplots(2, 1, figsize=(20,16), sharex=True)\n",
    "\n",
    "for i in range(2):\n",
    "    ax[i].bar(nameAxis, y_axis[i], color=colors[i], width = .75)\n",
    "    ax[i].yaxis.grid(color='b', alpha=0.5, linestyle='dashed', linewidth=0.5)\n",
    "    ax[i].set_axisbelow(True)\n",
    "    ax[i].set_ylim(min(y_axis[i])- np.mean(y_axis[i])*0.025, max(y_axis[i])+ np.mean(y_axis[i])*0.05)\n",
    "    ax[i].tick_params(axis='both', which='major', labelsize=16)\n",
    "    for h, v in enumerate(y_axis[i]):\n",
    "        ax[i].text(h-.20, v+.0025, str(np.round(v,6)), color='black', size = 16, weight = \"bold\")\n",
    "\n",
    "plt.xlabel(\"Decomposition Types\", fontsize=24)\n",
    "\n",
    "ax[0].set_ylabel(\"Dec. Time [sec]\", fontsize=18)\n",
    "ax[1].set_ylabel(\"Rel. Memory Saving [-]\", fontsize=18)\n",
    "ax[0].yaxis.set_major_formatter(mtick.PercentFormatter())\n",
    "ax[1].yaxis.set_major_formatter(mtick.PercentFormatter())\n",
    "ax[1].set_ylim(min(y_axis[i])- np.mean(y_axis[i])*0.025, 100)\n",
    "plt.savefig('fig/SavTimeError.png')"
   ]
  },
  {
   "cell_type": "code",
   "execution_count": null,
   "metadata": {},
   "outputs": [],
   "source": [
    "from matplotlib import ticker\n",
    "uniSlightBlue = '#00BEFF'\n",
    "fig, ax = plt.subplots(1, 1, figsize=(20,8))\n",
    "ax.bar(operList, tensorOperationTimes, color = uniSlightBlue)\n",
    "ax.yaxis.grid(color='b', alpha=0.5, linestyle='dashed', linewidth=0.5)\n",
    "plt.xticks(rotation=22.5)\n",
    "ax.set_axisbelow(True)\n",
    "ax.set_ylabel(\"Elapsed Time [sec]\", fontsize=24)\n",
    "ax.tick_params(axis='both', which='major', labelsize=16)\n",
    "\n",
    "formatter = ticker.ScalarFormatter(useMathText=True)\n",
    "formatter.set_scientific(True) \n",
    "formatter.set_powerlimits((-1,1)) \n",
    "ax.yaxis.set_major_formatter(formatter) "
   ]
  },
  {
   "cell_type": "code",
   "execution_count": null,
   "metadata": {},
   "outputs": [],
   "source": [
    "#TODO #1\n",
    "# Speed comparion is not implemented. No function definition is defined for decomposed_tensor @ Vec multiplication."
   ]
  },
  {
   "cell_type": "code",
   "execution_count": null,
   "metadata": {},
   "outputs": [],
   "source": [
    "#TODO #2\n",
    "# For every decomposition type -> Line Plot: operation error, speedup time in tensor operations vs decomposed tensor operations."
   ]
  },
  {
   "cell_type": "code",
   "execution_count": null,
   "metadata": {},
   "outputs": [],
   "source": [
    "# DONE! (11.07.21)\n",
    "# For every decomposition type -> Bar plot: Decomposition error, decomposition time, memory saving"
   ]
  }
 ],
 "metadata": {
  "colab": {
   "include_colab_link": true,
   "name": "tensor_decomposition_test.ipynb",
   "provenance": []
  },
  "kernelspec": {
   "display_name": "Python 3",
   "language": "python",
   "name": "python3"
  },
  "language_info": {
   "codemirror_mode": {
    "name": "ipython",
    "version": 3
   },
   "file_extension": ".py",
   "mimetype": "text/x-python",
   "name": "python",
   "nbconvert_exporter": "python",
   "pygments_lexer": "ipython3",
   "version": "3.9.0"
  }
 },
 "nbformat": 4,
 "nbformat_minor": 1
}
