{
  "nbformat": 4,
  "nbformat_minor": 0,
  "metadata": {
    "kernelspec": {
      "display_name": "Python 3",
      "language": "python",
      "name": "python3"
    },
    "language_info": {
      "codemirror_mode": {
        "name": "ipython",
        "version": 3
      },
      "file_extension": ".py",
      "mimetype": "text/x-python",
      "name": "python",
      "nbconvert_exporter": "python",
      "pygments_lexer": "ipython3",
      "version": "3.6.4"
    },
    "colab": {
      "name": "tensor_decomposition_test.ipynb",
      "provenance": [],
      "include_colab_link": true
    }
  },
  "cells": [
    {
      "cell_type": "markdown",
      "metadata": {
        "id": "view-in-github",
        "colab_type": "text"
      },
      "source": [
        "<a href=\"https://colab.research.google.com/github/shadialameddin/tensor_decomposition/blob/master/tensor_decomposition_test.ipynb\" target=\"_parent\"><img src=\"https://colab.research.google.com/assets/colab-badge.svg\" alt=\"Open In Colab\"/></a>"
      ]
    },
    {
      "cell_type": "markdown",
      "metadata": {
        "id": "y_quEpBUTTvg"
      },
      "source": [
        "http://tensorly.org/stable/auto_examples/index.html#general-examples\n",
        "\n",
        "https://github.com/tensorly/tensorly"
      ]
    },
    {
      "cell_type": "code",
      "metadata": {
        "colab": {
          "base_uri": "https://localhost:8080/"
        },
        "id": "F3DAy_TUQoSc",
        "outputId": "8f864662-289d-4a48-c253-342a4d5df0a4"
      },
      "source": [
        "!pip install -U tensorly"
      ],
      "execution_count": 8,
      "outputs": [
        {
          "output_type": "stream",
          "text": [
            "Requirement already up-to-date: tensorly in /usr/local/lib/python3.7/dist-packages (0.6.0)\n",
            "Requirement already satisfied, skipping upgrade: scipy in /usr/local/lib/python3.7/dist-packages (from tensorly) (1.4.1)\n",
            "Requirement already satisfied, skipping upgrade: numpy in /usr/local/lib/python3.7/dist-packages (from tensorly) (1.19.5)\n",
            "Requirement already satisfied, skipping upgrade: nose in /usr/local/lib/python3.7/dist-packages (from tensorly) (1.3.7)\n"
          ],
          "name": "stdout"
        }
      ]
    },
    {
      "cell_type": "code",
      "metadata": {
        "id": "UtBBcAQXQiEz"
      },
      "source": [
        "import numpy as np\n",
        "import tensorly as tl\n",
        "from tensorly.testing import assert_array_equal"
      ],
      "execution_count": 9,
      "outputs": []
    },
    {
      "cell_type": "markdown",
      "metadata": {
        "id": "K5NRlFuDSQGS"
      },
      "source": [
        "A tensor is simply a numpy array"
      ]
    },
    {
      "cell_type": "code",
      "metadata": {
        "colab": {
          "base_uri": "https://localhost:8080/"
        },
        "id": "EPWK-89mSIAl",
        "outputId": "9a05f297-0d36-4455-f9c9-0f27d6e6d57e"
      },
      "source": [
        "tensor = tl.tensor(np.arange(24).reshape((3, 4, 2)))\n",
        "print('* original tensor:\\n{}'.format(tensor))"
      ],
      "execution_count": 10,
      "outputs": [
        {
          "output_type": "stream",
          "text": [
            "* original tensor:\n",
            "[[[ 0  1]\n",
            "  [ 2  3]\n",
            "  [ 4  5]\n",
            "  [ 6  7]]\n",
            "\n",
            " [[ 8  9]\n",
            "  [10 11]\n",
            "  [12 13]\n",
            "  [14 15]]\n",
            "\n",
            " [[16 17]\n",
            "  [18 19]\n",
            "  [20 21]\n",
            "  [22 23]]]\n"
          ],
          "name": "stdout"
        }
      ]
    },
    {
      "cell_type": "markdown",
      "metadata": {
        "id": "LqyG_We7STjI"
      },
      "source": [
        "Unfolding a tensor is easy"
      ]
    },
    {
      "cell_type": "code",
      "metadata": {
        "colab": {
          "base_uri": "https://localhost:8080/"
        },
        "id": "uaVro8QFSMFf",
        "outputId": "86ee4156-1e03-477e-ddcc-2339ca39c4e8"
      },
      "source": [
        "for mode in range(tensor.ndim):\n",
        "    print('* mode-{} unfolding:\\n{}'.format(mode, tl.unfold(tensor, mode)))"
      ],
      "execution_count": 11,
      "outputs": [
        {
          "output_type": "stream",
          "text": [
            "* mode-0 unfolding:\n",
            "[[ 0  1  2  3  4  5  6  7]\n",
            " [ 8  9 10 11 12 13 14 15]\n",
            " [16 17 18 19 20 21 22 23]]\n",
            "* mode-1 unfolding:\n",
            "[[ 0  1  8  9 16 17]\n",
            " [ 2  3 10 11 18 19]\n",
            " [ 4  5 12 13 20 21]\n",
            " [ 6  7 14 15 22 23]]\n",
            "* mode-2 unfolding:\n",
            "[[ 0  2  4  6  8 10 12 14 16 18 20 22]\n",
            " [ 1  3  5  7  9 11 13 15 17 19 21 23]]\n"
          ],
          "name": "stdout"
        }
      ]
    },
    {
      "cell_type": "markdown",
      "metadata": {
        "id": "2MPD52X2Sk5j"
      },
      "source": [
        "Re-folding the tensor is as easy:"
      ]
    },
    {
      "cell_type": "code",
      "metadata": {
        "id": "lQpKJqGlSjEA"
      },
      "source": [
        "for mode in range(tensor.ndim):\n",
        "    unfolding = tl.unfold(tensor, mode)\n",
        "    folded = tl.fold(unfolding, mode, tensor.shape)\n",
        "    assert_array_equal(folded, tensor)"
      ],
      "execution_count": 12,
      "outputs": []
    }
  ]
}