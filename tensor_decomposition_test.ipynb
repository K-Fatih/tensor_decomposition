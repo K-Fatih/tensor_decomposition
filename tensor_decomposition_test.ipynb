{
 "cells": [
  {
   "cell_type": "markdown",
   "metadata": {
    "colab_type": "text",
    "id": "view-in-github"
   },
   "source": [
    "<a href=\"https://colab.research.google.com/github/shadialameddin/tensor_decomposition/blob/master/tensor_decomposition_test.ipynb\" target=\"_parent\"><img src=\"https://colab.research.google.com/assets/colab-badge.svg\" alt=\"Open In Colab\"/></a>"
   ]
  },
  {
   "cell_type": "markdown",
   "metadata": {
    "id": "y_quEpBUTTvg"
   },
   "source": [
    "http://tensorly.org/stable/auto_examples/index.html#general-examples\n",
    "\n",
    "https://github.com/tensorly/tensorly\n",
    "\n",
    "\n",
    "Sparse backend\n",
    "\n",
    "Kruskal-tensors have been renamed cp_tensors\n",
    "\n",
    "Matrix-product-state has now been renamed tensor-train\n"
   ]
  },
  {
   "cell_type": "code",
   "execution_count": null,
   "metadata": {
    "colab": {
     "base_uri": "https://localhost:8080/"
    },
    "id": "F3DAy_TUQoSc",
    "outputId": "8f864662-289d-4a48-c253-342a4d5df0a4",
    "scrolled": false
   },
   "outputs": [],
   "source": [
    "!pip install -U tensorly --quiet"
   ]
  },
  {
   "cell_type": "code",
   "execution_count": null,
   "metadata": {},
   "outputs": [],
   "source": [
    "import tensorly as tl\n",
    "import numpy as np\n",
    "from tensorly.testing import assert_array_equal"
   ]
  },
  {
   "cell_type": "code",
   "execution_count": null,
   "metadata": {
    "colab": {
     "base_uri": "https://localhost:8080/"
    },
    "id": "EPWK-89mSIAl",
    "outputId": "9a05f297-0d36-4455-f9c9-0f27d6e6d57e"
   },
   "outputs": [],
   "source": [
    "tensor = tl.tensor(np.arange(24).reshape((3, 4, 2)))\n",
    "print('* original tensor:\\n{}'.format(tensor))"
   ]
  },
  {
   "cell_type": "markdown",
   "metadata": {
    "id": "LqyG_We7STjI"
   },
   "source": [
    "Unfolding a tensor is easy"
   ]
  },
  {
   "cell_type": "code",
   "execution_count": null,
   "metadata": {
    "colab": {
     "base_uri": "https://localhost:8080/"
    },
    "id": "uaVro8QFSMFf",
    "outputId": "86ee4156-1e03-477e-ddcc-2339ca39c4e8"
   },
   "outputs": [],
   "source": [
    "for mode in range(tensor.ndim):\n",
    "    print('* mode-{} unfolding:\\n{}'.format(mode, tl.unfold(tensor, mode)))"
   ]
  },
  {
   "cell_type": "markdown",
   "metadata": {
    "id": "2MPD52X2Sk5j"
   },
   "source": [
    "Re-folding the tensor is as easy:"
   ]
  },
  {
   "cell_type": "code",
   "execution_count": null,
   "metadata": {
    "id": "lQpKJqGlSjEA"
   },
   "outputs": [],
   "source": [
    "for mode in range(tensor.ndim):\n",
    "    unfolding = tl.unfold(tensor, mode)\n",
    "    folded = tl.fold(unfolding, mode, tensor.shape)\n",
    "    assert_array_equal(folded, tensor)"
   ]
  },
  {
   "cell_type": "code",
   "execution_count": null,
   "metadata": {},
   "outputs": [],
   "source": [
    "import os "
   ]
  },
  {
   "cell_type": "code",
   "execution_count": null,
   "metadata": {},
   "outputs": [],
   "source": [
    "if not os.path.exists('tensor_decomposition') and not os.path.isfile('TensorDecomp.py'):\n",
    "    !git clone https://github.com/shadialameddin/tensor_decomposition.git --quiet"
   ]
  },
  {
   "cell_type": "code",
   "execution_count": null,
   "metadata": {},
   "outputs": [],
   "source": [
    "%cd tensor_decomposition"
   ]
  },
  {
   "cell_type": "code",
   "execution_count": null,
   "metadata": {},
   "outputs": [],
   "source": [
    "from TensorDecomp import *"
   ]
  },
  {
   "cell_type": "markdown",
   "metadata": {},
   "source": [
    "list of available decomposition types:\n",
    "\n",
    "decomp_list = ['svd', 'parafac', 'tucker', 'matrix_product_state']"
   ]
  },
  {
   "cell_type": "code",
   "execution_count": null,
   "metadata": {},
   "outputs": [],
   "source": [
    "a = np.random.randint(20, size = (12,12))\n",
    "vec = np.random.randint(5, size = a.shape[1])\n",
    "\n",
    "tens = TensorDecomp(a.astype('float'))\n",
    "tens.decompose(parafac, rank = 10)\n",
    "tens.reconstruct()\n",
    "\n",
    "\n",
    "print(f\"Decomposition Type:\\t\\t\\t {tens.decomp_type}\")\n",
    "print(f\"Size in memory before decomposition:{tens.memSize: 9d}\")\n",
    "print(f\"Decomposition Time: {tens.decomp_time:39.16f}\")\n",
    "print(f\"Size in memory after decomposition:\\t {tens.decMemSize}\")\n",
    "print(f\"Decomposition Relative Error:{tens.error(np.linalg.norm, tens.tensor, tens.recons):30.16f}\")\n",
    "print(f\"Vector Multiplication Error:{tens.error(np.linalg.norm, tens.tensor@vec, tens.recons@vec):31.16f}\")\n"
   ]
  }
 ],
 "metadata": {
  "colab": {
   "include_colab_link": true,
   "name": "tensor_decomposition_test.ipynb",
   "provenance": []
  },
  "kernelspec": {
   "display_name": "Python 3",
   "language": "python",
   "name": "python3"
  },
  "language_info": {
   "codemirror_mode": {
    "name": "ipython",
    "version": 3
   },
   "file_extension": ".py",
   "mimetype": "text/x-python",
   "name": "python",
   "nbconvert_exporter": "python",
   "pygments_lexer": "ipython3",
   "version": "3.9.0"
  }
 },
 "nbformat": 4,
 "nbformat_minor": 1
}
